{
 "cells": [
  {
   "cell_type": "code",
   "execution_count": 2,
   "id": "aa2c227d",
   "metadata": {},
   "outputs": [
    {
     "name": "stdout",
     "output_type": "stream",
     "text": [
      "mlflow, version 1.26.1\r\n"
     ]
    }
   ],
   "source": [
    "# import mlflow\n",
    "!mlflow --version"
   ]
  },
  {
   "cell_type": "code",
   "execution_count": 3,
   "id": "f763b1d1",
   "metadata": {},
   "outputs": [
    {
     "data": {
      "text/plain": [
       "'1.26.1'"
      ]
     },
     "execution_count": 3,
     "metadata": {},
     "output_type": "execute_result"
    }
   ],
   "source": [
    "import mlflow\n",
    "mlflow.__version__"
   ]
  }
 ],
 "metadata": {
  "kernelspec": {
   "display_name": "Python 3",
   "language": "python",
   "name": "python3"
  },
  "language_info": {
   "codemirror_mode": {
    "name": "ipython",
    "version": 3
   },
   "file_extension": ".py",
   "mimetype": "text/x-python",
   "name": "python",
   "nbconvert_exporter": "python",
   "pygments_lexer": "ipython3",
   "version": "3.8.8"
  }
 },
 "nbformat": 4,
 "nbformat_minor": 5
}
